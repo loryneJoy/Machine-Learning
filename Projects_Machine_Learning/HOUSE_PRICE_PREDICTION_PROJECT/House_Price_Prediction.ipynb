{
 "cells": [
  {
   "cell_type": "markdown",
   "id": "0736fd47",
   "metadata": {},
   "source": [
    "#### Part 1: Data Cleaning"
   ]
  },
  {
   "cell_type": "code",
   "execution_count": 2,
   "id": "972ef318",
   "metadata": {},
   "outputs": [],
   "source": [
    "# Libraries\n",
    "#importing libraries\n",
    "import pandas as pd\n",
    "import numpy as np\n",
    "import matplotlib.pyplot as plt\n",
    "import seaborn as sns\n",
    "from datetime import datetime\n",
    "from sklearn.tree import DecisionTreeClassifier\n",
    "from sklearn.model_selection import train_test_split\n",
    "from sklearn.metrics import accuracy_score, r2_score"
   ]
  },
  {
   "cell_type": "code",
   "execution_count": 3,
   "id": "1b452c38",
   "metadata": {},
   "outputs": [
    {
     "data": {
      "text/html": [
       "<div>\n",
       "<style scoped>\n",
       "    .dataframe tbody tr th:only-of-type {\n",
       "        vertical-align: middle;\n",
       "    }\n",
       "\n",
       "    .dataframe tbody tr th {\n",
       "        vertical-align: top;\n",
       "    }\n",
       "\n",
       "    .dataframe thead th {\n",
       "        text-align: right;\n",
       "    }\n",
       "</style>\n",
       "<table border=\"1\" class=\"dataframe\">\n",
       "  <thead>\n",
       "    <tr style=\"text-align: right;\">\n",
       "      <th></th>\n",
       "      <th>BedRooms</th>\n",
       "      <th>Bath rooms</th>\n",
       "      <th>Size_sqft</th>\n",
       "      <th>location</th>\n",
       "      <th>year built</th>\n",
       "      <th>Garage Available</th>\n",
       "      <th>Furnishing</th>\n",
       "      <th>House Condition</th>\n",
       "      <th>Has_Pool</th>\n",
       "      <th>Lot Size</th>\n",
       "      <th>Price($)</th>\n",
       "    </tr>\n",
       "  </thead>\n",
       "  <tbody>\n",
       "    <tr>\n",
       "      <th>0</th>\n",
       "      <td>3.0</td>\n",
       "      <td>1.0</td>\n",
       "      <td>1149</td>\n",
       "      <td>Rural</td>\n",
       "      <td>2004</td>\n",
       "      <td>NaN</td>\n",
       "      <td>Unfurnished</td>\n",
       "      <td>new</td>\n",
       "      <td>0.0</td>\n",
       "      <td>0.15</td>\n",
       "      <td>244043</td>\n",
       "    </tr>\n",
       "    <tr>\n",
       "      <th>1</th>\n",
       "      <td>NaN</td>\n",
       "      <td>2.0</td>\n",
       "      <td>1169</td>\n",
       "      <td>Rural</td>\n",
       "      <td>1989</td>\n",
       "      <td>1.0</td>\n",
       "      <td>NaN</td>\n",
       "      <td>Old</td>\n",
       "      <td>0.0</td>\n",
       "      <td>0.23</td>\n",
       "      <td>211250</td>\n",
       "    </tr>\n",
       "    <tr>\n",
       "      <th>2</th>\n",
       "      <td>4.0</td>\n",
       "      <td>3.0</td>\n",
       "      <td>1409</td>\n",
       "      <td>Suburban</td>\n",
       "      <td>1993</td>\n",
       "      <td>1.0</td>\n",
       "      <td>Unfurnished</td>\n",
       "      <td>gd</td>\n",
       "      <td>0.0</td>\n",
       "      <td>0.19</td>\n",
       "      <td>257239</td>\n",
       "    </tr>\n",
       "    <tr>\n",
       "      <th>3</th>\n",
       "      <td>3.0</td>\n",
       "      <td>3.0</td>\n",
       "      <td>1647</td>\n",
       "      <td>Suburban</td>\n",
       "      <td>2021</td>\n",
       "      <td>0.0</td>\n",
       "      <td>NaN</td>\n",
       "      <td>new</td>\n",
       "      <td>0.0</td>\n",
       "      <td>0.27</td>\n",
       "      <td>310316</td>\n",
       "    </tr>\n",
       "    <tr>\n",
       "      <th>4</th>\n",
       "      <td>2.0</td>\n",
       "      <td>3.0</td>\n",
       "      <td>1865</td>\n",
       "      <td>Urban</td>\n",
       "      <td>2009</td>\n",
       "      <td>0.0</td>\n",
       "      <td>furnised</td>\n",
       "      <td>old</td>\n",
       "      <td>1.0</td>\n",
       "      <td>0.39</td>\n",
       "      <td>334791</td>\n",
       "    </tr>\n",
       "  </tbody>\n",
       "</table>\n",
       "</div>"
      ],
      "text/plain": [
       "    BedRooms   Bath rooms  Size_sqft  location  year built  Garage Available  \\\n",
       "0         3.0         1.0       1149     Rural        2004               NaN   \n",
       "1         NaN         2.0       1169     Rural        1989               1.0   \n",
       "2         4.0         3.0       1409  Suburban        1993               1.0   \n",
       "3         3.0         3.0       1647  Suburban        2021               0.0   \n",
       "4         2.0         3.0       1865     Urban        2009               0.0   \n",
       "\n",
       "    Furnishing House Condition  Has_Pool  Lot Size  Price($)  \n",
       "0  Unfurnished             new       0.0      0.15    244043  \n",
       "1          NaN             Old       0.0      0.23    211250  \n",
       "2  Unfurnished              gd       0.0      0.19    257239  \n",
       "3          NaN             new       0.0      0.27    310316  \n",
       "4     furnised             old       1.0      0.39    334791  "
      ]
     },
     "execution_count": 3,
     "metadata": {},
     "output_type": "execute_result"
    }
   ],
   "source": [
    "# 1. Load and examine the dataset to understand its structure.\n",
    "df= pd.read_csv(r\"C:\\Users\\Loryne\\Documents\\LUXDEVHQ-LoryneJoy\\DATA_SCIENCE\\MACHINE-LEARNING\\Projects_Machine_Learning\\HOUSE_PRICE_PREDICTION_PROJECT\\property_data.csv\")\n",
    "df.head()"
   ]
  },
  {
   "cell_type": "code",
   "execution_count": null,
   "id": "237e5e52",
   "metadata": {},
   "outputs": [
    {
     "data": {
      "text/plain": [
       "(1000, 11)"
      ]
     },
     "execution_count": 4,
     "metadata": {},
     "output_type": "execute_result"
    }
   ],
   "source": [
    "\n",
    "df.shape"
   ]
  },
  {
   "cell_type": "code",
   "execution_count": null,
   "id": "396b4f9b",
   "metadata": {},
   "outputs": [
    {
     "data": {
      "text/plain": [
       " BedRooms           float64\n",
       "Bath rooms          float64\n",
       "Size_sqft             int64\n",
       "location             object\n",
       "year built            int64\n",
       "Garage Available    float64\n",
       "Furnishing           object\n",
       "House Condition      object\n",
       "Has_Pool            float64\n",
       "Lot Size            float64\n",
       "Price($)              int64\n",
       "dtype: object"
      ]
     },
     "execution_count": 5,
     "metadata": {},
     "output_type": "execute_result"
    }
   ],
   "source": [
    "# To show the columns data types\n",
    "df.dtypes"
   ]
  },
  {
   "cell_type": "code",
   "execution_count": null,
   "id": "3cbcb729",
   "metadata": {},
   "outputs": [],
   "source": [
    "# 2. Clean the column names by removing unnecessary characters or spaces, and make them consistent.\n",
    "# Clean column names\n",
    "df.columns = (\n",
    "    df.columns\n",
    "    .str.strip()               # remove leading/trailing spaces\n",
    "    .str.lower()               # make lowercase\n",
    "    .str.replace(r'[^a-z0-9]+', '_', regex=True)  # replace special chars with underscore\n",
    "    .str.replace(r'(^_|_$)', '', regex=True)      # remove leading/trailing underscores\n",
    ")\n"
   ]
  },
  {
   "cell_type": "code",
   "execution_count": 9,
   "id": "8707ccce",
   "metadata": {},
   "outputs": [
    {
     "name": "stdout",
     "output_type": "stream",
     "text": [
      "Cleaned columns: ['bedrooms', 'bath_rooms', 'size_sqft', 'location', 'year_built', 'garage_available', 'furnishing', 'house_condition', 'has_pool', 'lot_size', 'price']\n"
     ]
    }
   ],
   "source": [
    "# Rename cleaned columns\n",
    "# Print to confirm\n",
    "print(\"Cleaned columns:\", df.columns.tolist())"
   ]
  },
  {
   "cell_type": "code",
   "execution_count": 10,
   "id": "cc0b3a24",
   "metadata": {},
   "outputs": [
    {
     "data": {
      "text/plain": [
       "bedrooms             46\n",
       "bath_rooms           59\n",
       "size_sqft             0\n",
       "location              0\n",
       "year_built            0\n",
       "garage_available    104\n",
       "furnishing          157\n",
       "house_condition       0\n",
       "has_pool             55\n",
       "lot_size              0\n",
       "price                 0\n",
       "dtype: int64"
      ]
     },
     "execution_count": 10,
     "metadata": {},
     "output_type": "execute_result"
    }
   ],
   "source": [
    "# 3. Check for missing values in the dataset and decide whether to fill or remove them.\n",
    "#checking missing values\n",
    "df.isnull().sum()"
   ]
  },
  {
   "cell_type": "code",
   "execution_count": null,
   "id": "b25a7e11",
   "metadata": {},
   "outputs": [
    {
     "data": {
      "text/html": [
       "<div>\n",
       "<style scoped>\n",
       "    .dataframe tbody tr th:only-of-type {\n",
       "        vertical-align: middle;\n",
       "    }\n",
       "\n",
       "    .dataframe tbody tr th {\n",
       "        vertical-align: top;\n",
       "    }\n",
       "\n",
       "    .dataframe thead th {\n",
       "        text-align: right;\n",
       "    }\n",
       "</style>\n",
       "<table border=\"1\" class=\"dataframe\">\n",
       "  <thead>\n",
       "    <tr style=\"text-align: right;\">\n",
       "      <th></th>\n",
       "      <th>bedrooms</th>\n",
       "      <th>bath_rooms</th>\n",
       "      <th>size_sqft</th>\n",
       "      <th>year_built</th>\n",
       "      <th>garage_available</th>\n",
       "      <th>has_pool</th>\n",
       "      <th>lot_size</th>\n",
       "      <th>price</th>\n",
       "    </tr>\n",
       "  </thead>\n",
       "  <tbody>\n",
       "    <tr>\n",
       "      <th>count</th>\n",
       "      <td>954.000000</td>\n",
       "      <td>941.000000</td>\n",
       "      <td>1000.000000</td>\n",
       "      <td>1000.00000</td>\n",
       "      <td>896.000000</td>\n",
       "      <td>945.000000</td>\n",
       "      <td>1000.00000</td>\n",
       "      <td>1000.000000</td>\n",
       "    </tr>\n",
       "    <tr>\n",
       "      <th>mean</th>\n",
       "      <td>2.912998</td>\n",
       "      <td>1.989373</td>\n",
       "      <td>1505.170000</td>\n",
       "      <td>2001.59500</td>\n",
       "      <td>0.533482</td>\n",
       "      <td>0.280423</td>\n",
       "      <td>0.25540</td>\n",
       "      <td>277133.174000</td>\n",
       "    </tr>\n",
       "    <tr>\n",
       "      <th>std</th>\n",
       "      <td>1.161547</td>\n",
       "      <td>0.836592</td>\n",
       "      <td>391.257815</td>\n",
       "      <td>12.42511</td>\n",
       "      <td>0.499156</td>\n",
       "      <td>0.449444</td>\n",
       "      <td>0.13628</td>\n",
       "      <td>59963.752729</td>\n",
       "    </tr>\n",
       "    <tr>\n",
       "      <th>min</th>\n",
       "      <td>1.000000</td>\n",
       "      <td>1.000000</td>\n",
       "      <td>292.000000</td>\n",
       "      <td>1980.00000</td>\n",
       "      <td>0.000000</td>\n",
       "      <td>0.000000</td>\n",
       "      <td>0.00000</td>\n",
       "      <td>87752.000000</td>\n",
       "    </tr>\n",
       "    <tr>\n",
       "      <th>25%</th>\n",
       "      <td>2.000000</td>\n",
       "      <td>1.000000</td>\n",
       "      <td>1241.750000</td>\n",
       "      <td>1991.00000</td>\n",
       "      <td>0.000000</td>\n",
       "      <td>0.000000</td>\n",
       "      <td>0.15000</td>\n",
       "      <td>236922.250000</td>\n",
       "    </tr>\n",
       "    <tr>\n",
       "      <th>50%</th>\n",
       "      <td>3.000000</td>\n",
       "      <td>2.000000</td>\n",
       "      <td>1500.000000</td>\n",
       "      <td>2002.00000</td>\n",
       "      <td>1.000000</td>\n",
       "      <td>0.000000</td>\n",
       "      <td>0.25000</td>\n",
       "      <td>277263.500000</td>\n",
       "    </tr>\n",
       "    <tr>\n",
       "      <th>75%</th>\n",
       "      <td>4.000000</td>\n",
       "      <td>3.000000</td>\n",
       "      <td>1769.000000</td>\n",
       "      <td>2012.00000</td>\n",
       "      <td>1.000000</td>\n",
       "      <td>1.000000</td>\n",
       "      <td>0.35000</td>\n",
       "      <td>317508.250000</td>\n",
       "    </tr>\n",
       "    <tr>\n",
       "      <th>max</th>\n",
       "      <td>5.000000</td>\n",
       "      <td>4.000000</td>\n",
       "      <td>2777.000000</td>\n",
       "      <td>2023.00000</td>\n",
       "      <td>1.000000</td>\n",
       "      <td>1.000000</td>\n",
       "      <td>0.76000</td>\n",
       "      <td>481326.000000</td>\n",
       "    </tr>\n",
       "  </tbody>\n",
       "</table>\n",
       "</div>"
      ],
      "text/plain": [
       "         bedrooms  bath_rooms    size_sqft  year_built  garage_available  \\\n",
       "count  954.000000  941.000000  1000.000000  1000.00000        896.000000   \n",
       "mean     2.912998    1.989373  1505.170000  2001.59500          0.533482   \n",
       "std      1.161547    0.836592   391.257815    12.42511          0.499156   \n",
       "min      1.000000    1.000000   292.000000  1980.00000          0.000000   \n",
       "25%      2.000000    1.000000  1241.750000  1991.00000          0.000000   \n",
       "50%      3.000000    2.000000  1500.000000  2002.00000          1.000000   \n",
       "75%      4.000000    3.000000  1769.000000  2012.00000          1.000000   \n",
       "max      5.000000    4.000000  2777.000000  2023.00000          1.000000   \n",
       "\n",
       "         has_pool    lot_size          price  \n",
       "count  945.000000  1000.00000    1000.000000  \n",
       "mean     0.280423     0.25540  277133.174000  \n",
       "std      0.449444     0.13628   59963.752729  \n",
       "min      0.000000     0.00000   87752.000000  \n",
       "25%      0.000000     0.15000  236922.250000  \n",
       "50%      0.000000     0.25000  277263.500000  \n",
       "75%      1.000000     0.35000  317508.250000  \n",
       "max      1.000000     0.76000  481326.000000  "
      ]
     },
     "execution_count": 13,
     "metadata": {},
     "output_type": "execute_result"
    }
   ],
   "source": [
    "# summary of data\n",
    "df.describe() "
   ]
  },
  {
   "cell_type": "code",
   "execution_count": null,
   "id": "6d406a78",
   "metadata": {},
   "outputs": [],
   "source": [
    "# to fill missing values (bedroom, bathroom, garage, furnishing, has pool)\n",
    "\n",
    "\n",
    "\n"
   ]
  }
 ],
 "metadata": {
  "kernelspec": {
   "display_name": "base",
   "language": "python",
   "name": "python3"
  },
  "language_info": {
   "codemirror_mode": {
    "name": "ipython",
    "version": 3
   },
   "file_extension": ".py",
   "mimetype": "text/x-python",
   "name": "python",
   "nbconvert_exporter": "python",
   "pygments_lexer": "ipython3",
   "version": "3.12.7"
  }
 },
 "nbformat": 4,
 "nbformat_minor": 5
}
